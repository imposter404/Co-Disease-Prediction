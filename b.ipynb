{
 "cells": [
  {
   "cell_type": "code",
   "execution_count": 19,
   "metadata": {},
   "outputs": [],
   "source": [
    "import pandas as pd\n",
    "import json"
   ]
  },
  {
   "cell_type": "code",
   "execution_count": 20,
   "metadata": {},
   "outputs": [
    {
     "name": "stdout",
     "output_type": "stream",
     "text": [
      "         Disease1                                      Disease2   pol  \\\n",
      "0            Acne                               Dermatitis Skin  0.33   \n",
      "1            Acne          Allergy/chronic Rhinitis Respiratory  0.24   \n",
      "2            Acne                  Bronchial Asthma Respiratory  0.21   \n",
      "3            Acne                        Depression Psychiatric  0.21   \n",
      "4            Acne                           Anxiety Psychiatric  0.17   \n",
      "..            ...                                           ...   ...   \n",
      "215  Tuberculosis                          Raised LDL Endocrine  0.26   \n",
      "216  Tuberculosis                        Depression Psychiatric  0.23   \n",
      "217  Tuberculosis  Infection Lower Respiratory Tract Infections  0.23   \n",
      "218  Tuberculosis                Bacterial Infection Infections  0.22   \n",
      "219  Tuberculosis                             Obesity Endocrine  0.21   \n",
      "\n",
      "          per  \n",
      "0    2.559723  \n",
      "1    1.874962  \n",
      "2    1.641028  \n",
      "3    1.616263  \n",
      "4    1.318700  \n",
      "..        ...  \n",
      "215  0.153598  \n",
      "216  0.137613  \n",
      "217  0.136890  \n",
      "218  0.130770  \n",
      "219  0.124650  \n",
      "\n",
      "[220 rows x 4 columns]\n"
     ]
    }
   ],
   "source": [
    "df=pd.read_csv('all_1.csv')\n",
    "print(df)"
   ]
  },
  {
   "cell_type": "code",
   "execution_count": 21,
   "metadata": {},
   "outputs": [
    {
     "name": "stdout",
     "output_type": "stream",
     "text": [
      "['Acne', 'AIDS', 'Alcoholic hepatitis', 'Allergy', 'Arthritis', 'Bronchial Asthma', 'Cervical spondylosis', 'Chicken pox', 'Chronic cholestasis', 'Common Cold', 'Dengue', 'Diabetes', 'Dimorphic hemmorhoids(piles)', 'Drug Reaction', 'Fungal infection', 'Fungal infection', 'Gastroenteritis', 'GERD', 'Heart attack', 'hepatitis A', 'Hepatitis B', 'Hepatitis C', 'Hepatitis D', 'Hepatitis E', 'Hypertension', 'Hyperthyroidism', 'Hypoglycemia', 'Hypothyroidism', 'Impetigo', 'Jaundice', 'Malaria', 'Migraine', 'Osteoarthristis', 'Paralysis (brain hemorrhage)', 'Peptic ulcer diseae', 'Pneumonia', 'Psoriasis', 'Tuberculosis', 'Typhoid', 'Urinary tract infection', 'Varicose veins', 'vertigo Paroymsal  Positional Vertigo']\n"
     ]
    }
   ],
   "source": [
    "with open('dump\\\\Disease.json','r') as openfile:\n",
    "    js=json.load(openfile)\n",
    "print(js)"
   ]
  },
  {
   "cell_type": "code",
   "execution_count": 23,
   "metadata": {},
   "outputs": [
    {
     "name": "stdout",
     "output_type": "stream",
     "text": [
      "2095\n",
      "2095\n"
     ]
    }
   ],
   "source": [
    "k=list(df['Disease1'])\n",
    "# print(k)\n",
    "# count=0\n",
    "# for x in js:\n",
    "#     if x not in k:\n",
    "#         count+=1\n",
    "#         print(x)\n",
    "# print(count)\n",
    "\n",
    "total=0\n",
    "n=[]\n",
    "for i in range(len(df)):\n",
    "    if df.iloc[i]['Disease1']=='Acne':\n",
    "        total+=df.iloc[i]['pol']*100\n",
    "        n.append(df.iloc[i])\n",
    "\n",
    "# print(total)\n",
    "# print(n)\n",
    "n=pd.DataFrame(n)\n",
    "f=[]\n",
    "s=list(set(df['Disease1']))\n",
    "\n",
    "# for i in range(len(n)):\n",
    "#     x=round((n.iloc[i]['pol']*100)/total*100)\n",
    "#     print(x)\n",
    "#     for j in range(x):\n",
    "#         f.append(n.iloc[i])\n",
    "\n",
    "\n",
    "# print(len(f))\n",
    "# print(f)\n",
    "final=[]\n",
    "\n",
    "for x in s:\n",
    "    total=0\n",
    "    arr=[]\n",
    "    for i in range(len(df)):\n",
    "        if df.iloc[i]['Disease1']==x:\n",
    "            total+=df.iloc[i]['pol']*100\n",
    "            arr.append(df.iloc[i])\n",
    "    arr=pd.DataFrame(arr)\n",
    "    for i in range(len(arr)) :\n",
    "        l=round((arr.iloc[i]['pol']*100)/total*100)\n",
    "        # print(i,l)\n",
    "        for j in range(l):\n",
    "            final.append(arr.iloc[i][['Disease1','Disease2']])\n",
    "\n",
    "print(len(final))\n",
    "# print(final)\n",
    "import random\n",
    "final=random.sample(final,2095)\n",
    "print(len(final))\n",
    "# print(final)\n",
    "\n",
    "final=pd.DataFrame(final)\n",
    "final=final.set_axis([['Disease1','Disease2']],axis=1) \n",
    "final.to_csv('all_2.csv',index=False)\n"
   ]
  }
 ],
 "metadata": {
  "kernelspec": {
   "display_name": "Python 3",
   "language": "python",
   "name": "python3"
  },
  "language_info": {
   "codemirror_mode": {
    "name": "ipython",
    "version": 3
   },
   "file_extension": ".py",
   "mimetype": "text/x-python",
   "name": "python",
   "nbconvert_exporter": "python",
   "pygments_lexer": "ipython3",
   "version": "3.12.6"
  }
 },
 "nbformat": 4,
 "nbformat_minor": 2
}
