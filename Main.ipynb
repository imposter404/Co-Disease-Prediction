{
 "cells": [
  {
   "cell_type": "markdown",
   "metadata": {},
   "source": [
    "# Co Disease Prediction"
   ]
  },
  {
   "cell_type": "code",
   "execution_count": 46,
   "metadata": {},
   "outputs": [],
   "source": [
    "import pandas as pd \n",
    "import numpy as np\n",
    "from sklearn import svm\n",
    "from sklearn.tree import DecisionTreeClassifier\n",
    "from sklearn.multioutput import MultiOutputClassifier\n",
    "from sklearn.ensemble import RandomForestClassifier\n",
    "from sklearn.model_selection import RandomizedSearchCV\n",
    "import os\n",
    "import matplotlib.pyplot as plt\n",
    "os.system('cls')\n",
    "from mlxtend.frequent_patterns import apriori, association_rules\n",
    "import json\n",
    "import warnings\n",
    "warnings.filterwarnings('ignore')"
   ]
  },
  {
   "cell_type": "markdown",
   "metadata": {},
   "source": [
    "Data Pre Processing"
   ]
  },
  {
   "cell_type": "code",
   "execution_count": 47,
   "metadata": {},
   "outputs": [],
   "source": [
    "df = pd.read_csv(\"data/Training.csv\")\n",
    "test=\"\"\n",
    "symptom=['itching','skin_rash','nodal_skin_eruptions']\n",
    "symptom=list(set(symptom))\n",
    "disease=set(df['prognosis'])\n",
    "disease=list(disease)\n",
    "disease.sort()\n",
    "feature_cols =list(df.columns)\n",
    "feature_cols.pop()\n",
    "\n",
    "# -------------------------\n",
    "X = df[feature_cols] \n",
    "y = list(df['prognosis'])\n",
    "y = pd.get_dummies(y,drop_first=False)\n",
    "y_col=y.columns.to_list()\n",
    "# -------------------------\n",
    "\n",
    "with open('data/test_data/test_pair.json','r') as openfile:\n",
    "    pair=json.load(openfile)"
   ]
  },
  {
   "cell_type": "markdown",
   "metadata": {},
   "source": [
    "Reading Patient Data"
   ]
  },
  {
   "cell_type": "code",
   "execution_count": 48,
   "metadata": {},
   "outputs": [],
   "source": [
    "def patient(e):\n",
    "    global test\n",
    "    patient_data = pd.read_csv(\"data/test_pair_binary.csv\")\n",
    "    test=patient_data\n",
    "    if e!='all':\n",
    "        test=[patient_data.iloc[e]]"
   ]
  },
  {
   "cell_type": "markdown",
   "metadata": {},
   "source": [
    "Declaring Output Variables"
   ]
  },
  {
   "cell_type": "code",
   "execution_count": 49,
   "metadata": {},
   "outputs": [],
   "source": [
    "decisionTree_final=[]\n",
    "RandomForest_final=[]\n",
    "svm_final=[]\n",
    "\n",
    "multi_output_tree=\"\"\n",
    "multi_output_svm=\"\"\n",
    "multi_output_Forest=\"\""
   ]
  },
  {
   "cell_type": "markdown",
   "metadata": {},
   "source": [
    "convert binary data to disease name"
   ]
  },
  {
   "cell_type": "code",
   "execution_count": 50,
   "metadata": {},
   "outputs": [],
   "source": [
    "def disease_output(e,f):\n",
    "    global y_col\n",
    "    \n",
    "    for i in range(len(e)):\n",
    "        temp=[]\n",
    "        for j in range(len(e[0])):\n",
    "            if(e[i][j]==True):\n",
    "                temp.append(y_col[j])\n",
    "        f.append(temp)\n"
   ]
  },
  {
   "cell_type": "markdown",
   "metadata": {},
   "source": [
    "Scaler Vector Machine"
   ]
  },
  {
   "cell_type": "code",
   "execution_count": 51,
   "metadata": {},
   "outputs": [],
   "source": [
    "def SVM():\n",
    "    global multi_output_svm\n",
    "    global X,y\n",
    "    clf = svm.SVC(kernel='linear')\n",
    "    multi_output_svm=MultiOutputClassifier(clf)\n",
    "    multi_output_svm.fit(X, y)\n",
    "    \n",
    "def SVM_outpt():\n",
    "    global test\n",
    "    global multi_output_svm\n",
    "    global svm_final\n",
    "    svm_final=[]\n",
    "    predict= multi_output_svm.predict(test)\n",
    "    disease_output(predict,svm_final)"
   ]
  },
  {
   "cell_type": "markdown",
   "metadata": {},
   "source": [
    "Decision Tree"
   ]
  },
  {
   "cell_type": "code",
   "execution_count": 52,
   "metadata": {},
   "outputs": [],
   "source": [
    "def decisionTree():\n",
    "    global multi_output_tree\n",
    "    global X,y\n",
    "    dtree = DecisionTreeClassifier() \n",
    "    multi_output_tree=MultiOutputClassifier(dtree)\n",
    "    multi_output_tree.fit(X,y) \n",
    "\n",
    "def decisionTree_Output():\n",
    "    global test\n",
    "    global multi_output_tree\n",
    "    global decisionTree_final\n",
    "    decisionTree_final=[]\n",
    "    predict = multi_output_tree.predict(test)\n",
    "    disease_output(predict,decisionTree_final)"
   ]
  },
  {
   "cell_type": "markdown",
   "metadata": {},
   "source": [
    "Random Forest"
   ]
  },
  {
   "cell_type": "code",
   "execution_count": 53,
   "metadata": {},
   "outputs": [],
   "source": [
    "def RandomForest():\n",
    "    global multi_output_Forest\n",
    "    global X,y\n",
    "\n",
    "    # ---------------------------------------------------   \n",
    "    rf = RandomForestClassifier()\n",
    "    # multi_output_Forest=rf\n",
    "    multi_output_Forest=MultiOutputClassifier(rf)\n",
    "    multi_output_Forest.fit(X,y) \n",
    "    # ---------------------------------------------------   \n",
    "    # rf = RandomForestClassifier(n_estimators=74,max_depth=49)\n",
    "    # multi_output_Forest=MultiOutputClassifier(rf)\n",
    "    # multi_output_Forest.fit(X,y) \n",
    "\n",
    "\n",
    "    # ---------------------------------------------------   \n",
    "    # param_dist = {'n_estimators': randint(50,200), 'max_depth': randint(10,100)}\n",
    "    # rf = RandomForestClassifier()\n",
    "    # rand_search = RandomizedSearchCV(rf, param_distributions = param_dist, n_iter=5, cv=5)\n",
    "    # rand_search.fit(X, y)\n",
    "    # print(rand_search.best_estimator_)\n",
    "    # multi_output_Forest=MultiOutputClassifier(rand_search.best_estimator_)\n",
    "    # multi_output_Forest.fit(X,y)\n",
    "    # # print(rand_search.best_estimator_)\n",
    "\n",
    "\n",
    "def RandomForest_Output():\n",
    "    global test\n",
    "    global multi_output_Forest\n",
    "    global RandomForest_final\n",
    "    RandomForest_final=[]\n",
    "    predict = multi_output_Forest.predict(test)\n",
    "    disease_output(predict,RandomForest_final)"
   ]
  },
  {
   "cell_type": "markdown",
   "metadata": {},
   "source": [
    "Accuracy Of The Model"
   ]
  },
  {
   "cell_type": "code",
   "execution_count": 54,
   "metadata": {},
   "outputs": [],
   "source": [
    "def Accuracy():\n",
    "    r=0\n",
    "    d=0\n",
    "    s=0\n",
    "    for i in range(len(RandomForest_final)):\n",
    "        if (len(decisionTree_final[i])>=len(pair[i])):\n",
    "            d=d+1\n",
    "        if (len(RandomForest_final[i])>=len(pair[i])):\n",
    "            r=r+1\n",
    "        if (len(svm_final[i])>=len(pair[i])):\n",
    "            s=s+1\n",
    "    r=r/len(RandomForest_final)*100\n",
    "    d=d/len(RandomForest_final)*100\n",
    "    s=s/len(RandomForest_final)*100\n",
    "    print(len(RandomForest_final))\n",
    "    print('Accuracy: ','r=',r,'d=',d,'s=',s)\n",
    "# Accuracy()"
   ]
  },
  {
   "cell_type": "markdown",
   "metadata": {},
   "source": [
    "Apriori Algorithm"
   ]
  },
  {
   "cell_type": "code",
   "execution_count": 55,
   "metadata": {},
   "outputs": [],
   "source": [
    "def Apriori():\n",
    "    global rules\n",
    "    df=pd.read_csv('data/disease_disease.csv')\n",
    "    z=pd.concat([df['Disease1'],df['Disease2']])\n",
    "    z=list(set(z))\n",
    "    z.sort()\n",
    "    p=np.zeros((len(df),len(z)),dtype=int)\n",
    "    p=pd.DataFrame(p)\n",
    "    p=p.set_axis(z,axis=1) \n",
    "    for i in range(len(df)):\n",
    "        for x in df.iloc[i]:\n",
    "            p[x].iloc[i]=1\n",
    "    frequent_itemsets = apriori(p, min_support=0.001, use_colnames=True)\n",
    "    rules = association_rules(frequent_itemsets, metric='confidence', min_threshold=0)"
   ]
  },
  {
   "cell_type": "markdown",
   "metadata": {},
   "source": [
    "Find the disease output in Apriori"
   ]
  },
  {
   "cell_type": "code",
   "execution_count": 56,
   "metadata": {},
   "outputs": [],
   "source": [
    "def predict_apriori(intersection):\n",
    "    global rules\n",
    "    apriori_final=[]\n",
    "    for x in intersection:\n",
    "        for i in range(len(rules)):\n",
    "            if(x in rules.iloc[i]['antecedents']):\n",
    "                apriori_final.append(rules.iloc[i])\n",
    "    apriori_final=pd.DataFrame(apriori_final)\n",
    "    if len(apriori_final)==0:\n",
    "        print('No Disease Found in History')\n",
    "        return []\n",
    "    else:\n",
    "        return apriori_final[['antecedents', 'consequents', 'support', 'confidence', 'lift','jaccard']].sort_values(by=['confidence'],ascending=0)"
   ]
  },
  {
   "cell_type": "markdown",
   "metadata": {},
   "source": [
    "Output Co Disease With Percentage"
   ]
  },
  {
   "cell_type": "code",
   "execution_count": 57,
   "metadata": {},
   "outputs": [],
   "source": [
    "def Disease_percentage():\n",
    "    global intersection\n",
    "    print('RandomForest_final',RandomForest_final)\n",
    "    print('decisionTree_final',decisionTree_final)\n",
    "    print('svm_final         ',svm_final)\n",
    "    print('---------------------------------------')\n",
    "    union=[]\n",
    "    union=RandomForest_final[0].copy()\n",
    "    union.extend(decisionTree_final[0])\n",
    "    union.extend(svm_final[0])\n",
    "    intersection=list(set(RandomForest_final[0]).intersection(set(decisionTree_final[0]) , set(svm_final[0])))\n",
    "    u_min_n=[x for x in union if x not in intersection]\n",
    "    u_min_n_set=list(set(u_min_n))\n",
    "    final=[[x,100] for x in intersection]\n",
    "    for x in u_min_n_set:\n",
    "        final.append([x,u_min_n.count(x)/(3*len(u_min_n_set))*100])\n",
    "    final=pd.DataFrame(final)\n",
    "    final.columns=['Disease','%']\n",
    "    print(final.sort_values(by='%',ascending=0))\n",
    "    print('---------------------------------------')\n",
    "    apriori_final=predict_apriori(intersection)\n",
    "    if len(apriori_final)!=0: #return value\n",
    "        final_apriori=[]\n",
    "        for i in range(len(apriori_final)):\n",
    "            # print((apriori_final.iloc[i]['consequents']))\n",
    "            final_apriori.append([apriori_final.iloc[i]['consequents'], apriori_final.iloc[i]['confidence']*100])\n",
    "        final_apriori=pd.DataFrame(final_apriori)\n",
    "        final_apriori.columns=['Disease','%']\n",
    "        print(final_apriori)\n",
    "    print('---------------------------------------')"
   ]
  },
  {
   "cell_type": "markdown",
   "metadata": {},
   "source": [
    "Train Model"
   ]
  },
  {
   "cell_type": "code",
   "execution_count": 58,
   "metadata": {},
   "outputs": [],
   "source": [
    "# Train Models------------------------------\n",
    "decisionTree()\n",
    "RandomForest()\n",
    "SVM()\n",
    "# Disease from History----------------------\n",
    "Apriori()\n",
    "#-------------------------------------------"
   ]
  },
  {
   "cell_type": "markdown",
   "metadata": {},
   "source": [
    "Test Models"
   ]
  },
  {
   "cell_type": "code",
   "execution_count": 59,
   "metadata": {},
   "outputs": [
    {
     "name": "stdout",
     "output_type": "stream",
     "text": [
      "466\n",
      "Accuracy:  r= 96.78111587982833 d= 99.57081545064378 s= 95.92274678111588\n"
     ]
    }
   ],
   "source": [
    "# Test Models-------------------------------\n",
    "patient('all')\n",
    "decisionTree_Output()\n",
    "RandomForest_Output()\n",
    "SVM_outpt()\n",
    "Accuracy()\n",
    "#-------------------------------------------"
   ]
  },
  {
   "cell_type": "markdown",
   "metadata": {},
   "source": [
    "Disease Of Single Patient"
   ]
  },
  {
   "cell_type": "code",
   "execution_count": 60,
   "metadata": {},
   "outputs": [
    {
     "name": "stdout",
     "output_type": "stream",
     "text": [
      "RandomForest_final [['Common Cold', 'Dengue', 'Tuberculosis']]\n",
      "decisionTree_final [['Common Cold', 'Dengue', 'Hepatitis D', 'Malaria', 'Tuberculosis']]\n",
      "svm_final          [['Common Cold', 'Dengue', 'Tuberculosis']]\n",
      "---------------------------------------\n",
      "        Disease           %\n",
      "0  Tuberculosis  100.000000\n",
      "1   Common Cold  100.000000\n",
      "2        Dengue  100.000000\n",
      "3       Malaria   16.666667\n",
      "4   Hepatitis D   16.666667\n",
      "---------------------------------------\n",
      "                                          Disease     %\n",
      "0                   (Hypertension Cardiovascular)  15.0\n",
      "1            (Raised Total Cholesterol Endocrine)  14.0\n",
      "2                               (Dermatitis Skin)  10.0\n",
      "3                  (Enthesopathy Musculoskeletal)  10.0\n",
      "4               (Osteoarthristis Musculoskeletal)  10.0\n",
      "5                          (Raised LDL Endocrine)   9.0\n",
      "6                (Bacterial Infection Infections)   8.0\n",
      "7                        (Depression Psychiatric)   8.0\n",
      "8  (Infection Lower Respiratory Tract Infections)   8.0\n",
      "9                             (Obesity Endocrine)   8.0\n",
      "---------------------------------------\n"
     ]
    }
   ],
   "source": [
    "# Disease Of Single Patient-----------------\n",
    "patient(4)\n",
    "decisionTree_Output()\n",
    "RandomForest_Output()\n",
    "SVM_outpt()\n",
    "Disease_percentage()\n",
    "# ------------------------------------------"
   ]
  }
 ],
 "metadata": {
  "kernelspec": {
   "display_name": "Python 3",
   "language": "python",
   "name": "python3"
  },
  "language_info": {
   "codemirror_mode": {
    "name": "ipython",
    "version": 3
   },
   "file_extension": ".py",
   "mimetype": "text/x-python",
   "name": "python",
   "nbconvert_exporter": "python",
   "pygments_lexer": "ipython3",
   "version": "3.12.6"
  }
 },
 "nbformat": 4,
 "nbformat_minor": 2
}
