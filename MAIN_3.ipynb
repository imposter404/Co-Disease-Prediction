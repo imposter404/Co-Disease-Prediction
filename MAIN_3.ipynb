{
 "cells": [
  {
   "cell_type": "code",
   "execution_count": 1,
   "metadata": {},
   "outputs": [],
   "source": [
    "import pandas as pd \n",
    "import numpy as np\n",
    "from sklearn import tree\n",
    "from sklearn import svm\n",
    "from sklearn.tree import DecisionTreeClassifier\n",
    "from sklearn.multioutput import MultiOutputClassifier\n",
    "from sklearn.ensemble import RandomForestClassifier\n",
    "from sklearn.model_selection import RandomizedSearchCV\n",
    "from scipy.stats import randint\n",
    "import os\n",
    "import array\n",
    "import warnings\n",
    "from sklearn.metrics import ( \n",
    "    accuracy_score, \n",
    "    confusion_matrix, \n",
    "    ConfusionMatrixDisplay, \n",
    "    f1_score, \n",
    "    classification_report, \n",
    ")\n",
    "import matplotlib.pyplot as plt\n",
    "warnings.filterwarnings('ignore')\n",
    "os.system('cls')\n",
    "\n",
    "# import pandas as pd \n",
    "from mlxtend.frequent_patterns import apriori, association_rules\n",
    "\n",
    "# import numpy as np\n",
    "import warnings\n",
    "warnings.filterwarnings('ignore')\n",
    "\n",
    "import random"
   ]
  },
  {
   "cell_type": "code",
   "execution_count": 2,
   "metadata": {},
   "outputs": [],
   "source": [
    "df = pd.read_csv(\"Training.csv\")\n",
    "test=\"\"\n",
    "symptom=['itching','skin_rash','nodal_skin_eruptions']\n",
    "symptom=list(set(symptom))\n",
    "disease=set(df['prognosis'])\n",
    "disease=list(disease)\n",
    "disease.sort()\n",
    "feature_cols =list(df.columns)\n",
    "feature_cols.pop()\n",
    "\n",
    "# -------------------------\n",
    "X = df[feature_cols] \n",
    "y = list(df['prognosis'])\n",
    "y = pd.get_dummies(y,drop_first=False)\n",
    "y_col=y.columns.to_list()\n",
    "# -------------------------"
   ]
  },
  {
   "cell_type": "code",
   "execution_count": 3,
   "metadata": {},
   "outputs": [],
   "source": [
    "def patient():\n",
    "    global test\n",
    "    patient_data = pd.read_csv(\"a3_binary.csv\")\n",
    "    # patient_data=patient_data.drop(\"prognosis\", axis=1)\n",
    "    # x=patient_data.iloc[0]\n",
    "    # print(tuple(patient_data))\n",
    "    # print(x[0])\n",
    "    test=patient_data\n",
    "    test=[patient_data.iloc[0]]\n",
    "# patient()"
   ]
  },
  {
   "cell_type": "code",
   "execution_count": 4,
   "metadata": {},
   "outputs": [],
   "source": [
    "decisionTree_final=[]\n",
    "RandomForest_final=[]\n",
    "svm_final=[]\n",
    "\n",
    "multi_output_tree=\"\"\n",
    "multi_output_svm=\"\"\n",
    "multi_output_Forest=\"\""
   ]
  },
  {
   "cell_type": "code",
   "execution_count": 5,
   "metadata": {},
   "outputs": [],
   "source": [
    "def disease_output(e,f):\n",
    "    global y_col\n",
    "    \n",
    "    for i in range(len(e)):\n",
    "        temp=[]\n",
    "        for j in range(len(e[0])):\n",
    "            if(e[i][j]==True):\n",
    "                temp.append(y_col[j])\n",
    "        f.append(temp)\n"
   ]
  },
  {
   "cell_type": "code",
   "execution_count": 6,
   "metadata": {},
   "outputs": [],
   "source": [
    "def SVM():\n",
    "    global multi_output_svm\n",
    "    global X,y\n",
    "    clf = svm.SVC(kernel='linear')\n",
    "    multi_output_svm=MultiOutputClassifier(clf)\n",
    "    multi_output_svm.fit(X, y)\n",
    "    \n",
    "def SVM_outpt():\n",
    "    global test\n",
    "    global multi_output_svm\n",
    "    global svm_final\n",
    "    svm_final=[]\n",
    "    predict= multi_output_svm.predict(test)\n",
    "    disease_output(predict,svm_final)"
   ]
  },
  {
   "cell_type": "code",
   "execution_count": 7,
   "metadata": {},
   "outputs": [],
   "source": [
    "def decisionTree():\n",
    "    global multi_output_tree\n",
    "    global X,y\n",
    "    dtree = DecisionTreeClassifier() \n",
    "    multi_output_tree=MultiOutputClassifier(dtree)\n",
    "    multi_output_tree.fit(X,y) \n",
    "\n",
    "def decisionTree_Output():\n",
    "    global test\n",
    "    global multi_output_tree\n",
    "    global decisionTree_final\n",
    "    decisionTree_final=[]\n",
    "    predict = multi_output_tree.predict(test)\n",
    "    disease_output(predict,decisionTree_final)"
   ]
  },
  {
   "cell_type": "code",
   "execution_count": 8,
   "metadata": {},
   "outputs": [],
   "source": [
    "def RandomForest():\n",
    "    global multi_output_Forest\n",
    "    global X,y\n",
    "\n",
    "    # ---------------------------------------------------   \n",
    "    rf = RandomForestClassifier()\n",
    "    # multi_output_Forest=rf\n",
    "    multi_output_Forest=MultiOutputClassifier(rf)\n",
    "    multi_output_Forest.fit(X,y) \n",
    "    # ---------------------------------------------------   \n",
    "    # rf = RandomForestClassifier(n_estimators=74,max_depth=49)\n",
    "    # multi_output_Forest=MultiOutputClassifier(rf)\n",
    "    # multi_output_Forest.fit(X,y) \n",
    "\n",
    "\n",
    "    # ---------------------------------------------------   \n",
    "    # param_dist = {'n_estimators': randint(50,200), 'max_depth': randint(10,100)}\n",
    "    # rf = RandomForestClassifier()\n",
    "    # rand_search = RandomizedSearchCV(rf, param_distributions = param_dist, n_iter=5, cv=5)\n",
    "    # rand_search.fit(X, y)\n",
    "    # print(rand_search.best_estimator_)\n",
    "    # multi_output_Forest=MultiOutputClassifier(rand_search.best_estimator_)\n",
    "    # multi_output_Forest.fit(X,y)\n",
    "    # # print(rand_search.best_estimator_)\n",
    "\n",
    "# RandomForest()"
   ]
  },
  {
   "cell_type": "code",
   "execution_count": 9,
   "metadata": {},
   "outputs": [],
   "source": [
    "def RandomForest_Output():\n",
    "    global test\n",
    "    global multi_output_Forest\n",
    "    global RandomForest_final\n",
    "    RandomForest_final=[]\n",
    "    predict = multi_output_Forest.predict(test)\n",
    "    disease_output(predict,RandomForest_final)"
   ]
  },
  {
   "cell_type": "code",
   "execution_count": 10,
   "metadata": {},
   "outputs": [],
   "source": [
    "decisionTree()\n",
    "RandomForest()\n",
    "SVM()\n",
    "\n",
    "# decisionTree_Output()\n",
    "# RandomForest_Output()\n",
    "# SVM_outpt()"
   ]
  },
  {
   "cell_type": "code",
   "execution_count": 11,
   "metadata": {},
   "outputs": [],
   "source": [
    "import json\n",
    "with open('test_pair.json','r') as openfile:\n",
    "    pair=json.load(openfile)\n",
    "patient()\n",
    "decisionTree_Output()\n",
    "RandomForest_Output()\n",
    "SVM_outpt()"
   ]
  },
  {
   "cell_type": "code",
   "execution_count": 12,
   "metadata": {},
   "outputs": [
    {
     "name": "stdout",
     "output_type": "stream",
     "text": [
      "1\n",
      "r= 100.0 d= 100.0 s= 100.0\n"
     ]
    }
   ],
   "source": [
    "def Accuracy():\n",
    "    r=0\n",
    "    d=0\n",
    "    s=0\n",
    "    for i in range(len(RandomForest_final)):\n",
    "        if (len(decisionTree_final[i])>=len(pair[i])):\n",
    "            d=d+1\n",
    "        if (len(RandomForest_final[i])>=len(pair[i])):\n",
    "            r=r+1\n",
    "        if (len(svm_final[i])>=len(pair[i])):\n",
    "            s=s+1\n",
    "    r=r/len(RandomForest_final)*100\n",
    "    d=d/len(RandomForest_final)*100\n",
    "    s=s/len(RandomForest_final)*100\n",
    "    print(len(RandomForest_final))\n",
    "    print('r=',r,'d=',d,'s=',s)\n",
    "Accuracy()"
   ]
  },
  {
   "cell_type": "code",
   "execution_count": 18,
   "metadata": {},
   "outputs": [
    {
     "name": "stdout",
     "output_type": "stream",
     "text": [
      "          antecedents        consequents   support  confidence       lift\n",
      "29                (h)  (Hyperthyroidism)  0.044872    1.000000  12.000000\n",
      "27               (gg)  (Hyperthyroidism)  0.038462    1.000000  12.000000\n",
      "13               (kk)           (Dengue)  0.162393    1.000000   6.157895\n",
      "12           (Dengue)               (kk)  0.162393    1.000000   6.157895\n",
      "11         (Dementia)     (Hypertension)  0.010684    0.833333   5.000000\n",
      "23   (Osteoarthritis)     (Hypertension)  0.012821    0.600000   3.600000\n",
      "28  (Hyperthyroidism)                (h)  0.044872    0.538462  12.000000\n",
      "26  (Hyperthyroidism)               (gg)  0.038462    0.461538  12.000000\n",
      "1         (Arthritis)       (Depression)  0.012821    0.193548   1.484929\n",
      "16    (Heart Disease)       (Depression)  0.012821    0.176471   1.353905\n",
      "8            (Cancer)     (Hypertension)  0.017094    0.166667   1.000000\n",
      "6            (Cancer)       (Depression)  0.014957    0.145833   1.118852\n",
      "19       (Depression)     (Hypertension)  0.014957    0.114754   0.688525\n",
      "7        (Depression)           (Cancer)  0.014957    0.114754   1.118852\n",
      "25           (Stroke)     (Hypertension)  0.010684    0.113636   0.681818\n",
      "4              (COPD)         (Diabetes)  0.010684    0.113636   1.003431\n",
      "3              (COPD)           (Cancer)  0.010684    0.113636   1.107955\n",
      "15         (Diabetes)       (Depression)  0.012821    0.113208   0.868543\n",
      "2            (Cancer)             (COPD)  0.010684    0.104167   1.107955\n",
      "9      (Hypertension)           (Cancer)  0.017094    0.102564   1.000000\n",
      "17       (Depression)    (Heart Disease)  0.012821    0.098361   1.353905\n",
      "14       (Depression)         (Diabetes)  0.012821    0.098361   0.868543\n",
      "0        (Depression)        (Arthritis)  0.012821    0.098361   1.484929\n",
      "21         (Diabetes)     (Hypertension)  0.010684    0.094340   0.566038\n",
      "5          (Diabetes)             (COPD)  0.010684    0.094340   1.003431\n",
      "18     (Hypertension)       (Depression)  0.014957    0.089744   0.688525\n",
      "22     (Hypertension)   (Osteoarthritis)  0.012821    0.076923   3.600000\n",
      "20     (Hypertension)         (Diabetes)  0.010684    0.064103   0.566038\n",
      "24     (Hypertension)           (Stroke)  0.010684    0.064103   0.681818\n",
      "10     (Hypertension)         (Dementia)  0.010684    0.064103   5.000000\n"
     ]
    }
   ],
   "source": [
    "def Apriori():\n",
    "    global rules\n",
    "    df=pd.read_csv('Apriori copy.csv')\n",
    "    z=pd.concat([df['Disease1'],df['Disease2']])\n",
    "    z=list(set(z))\n",
    "    z.sort()\n",
    "    p=np.zeros((len(df),len(z)),dtype=int)\n",
    "    p=pd.DataFrame(p)\n",
    "    p=p.set_axis(z,axis=1) \n",
    "    for i in range(len(df)):\n",
    "        for x in df.iloc[i]:\n",
    "            p[x].iloc[i]=1\n",
    "\n",
    "    frequent_itemsets = apriori(p, min_support=0.01, use_colnames=True)\n",
    "    rules = association_rules(frequent_itemsets, metric='confidence', min_threshold=0)\n",
    "    print(rules[['antecedents', 'consequents', 'support', 'confidence', 'lift']].sort_values(by=['confidence'],ascending=0))\n",
    "Apriori()\n",
    "# print(rules)"
   ]
  },
  {
   "cell_type": "code",
   "execution_count": 19,
   "metadata": {},
   "outputs": [],
   "source": [
    "def predict_apriori(intersection):\n",
    "    global rules\n",
    "    \n",
    "    apriori_final=[]\n",
    "    for x in intersection:\n",
    "        # print(x)\n",
    "        for i in range(len(rules)):\n",
    "            if(x in rules.iloc[i]['antecedents']):\n",
    "                apriori_final.append(rules.iloc[i])\n",
    "    apriori_final=pd.DataFrame(apriori_final)\n",
    "    # print(apriori_final)        \n",
    "    print(apriori_final[['antecedents', 'consequents', 'support', 'confidence', 'lift','jaccard']].sort_values(by=['confidence'],ascending=0))\n",
    "    return apriori_final[['antecedents', 'consequents', 'support', 'confidence', 'lift','jaccard']].sort_values(by=['confidence'],ascending=0)\n",
    "# predict_apriori()"
   ]
  },
  {
   "cell_type": "code",
   "execution_count": 20,
   "metadata": {},
   "outputs": [],
   "source": [
    "# a=['Dengue','Hyperthyroidism','Dengue','Hyperthyroidism','Malaria','hh','Malaria']\n",
    "# int=['Dengue','Hyperthyroidism']"
   ]
  },
  {
   "cell_type": "code",
   "execution_count": 21,
   "metadata": {},
   "outputs": [
    {
     "name": "stdout",
     "output_type": "stream",
     "text": [
      "RandomForest_final [['Dengue', 'Hyperthyroidism']]\n",
      "decisionTree_final [['Dengue', 'Hyperthyroidism', 'Malaria']]\n",
      "svm_final          [['Dengue', 'Hyperthyroidism']]\n",
      "---------------------------------------\n",
      "           Disease           %\n",
      "0           Dengue  100.000000\n",
      "1  Hyperthyroidism  100.000000\n",
      "2          Malaria   33.333333\n",
      "---------------------------------------\n",
      "          antecedents consequents   support  confidence       lift   jaccard\n",
      "12           (Dengue)        (kk)  0.162393    1.000000   6.157895  1.000000\n",
      "28  (Hyperthyroidism)         (h)  0.044872    0.538462  12.000000  0.538462\n",
      "26  (Hyperthyroidism)        (gg)  0.038462    0.461538  12.000000  0.461538\n",
      "---------------------------------------\n",
      "frozenset({'kk'})\n",
      "frozenset({'h'})\n",
      "frozenset({'gg'})\n",
      "  Disease           %\n",
      "0    (kk)  100.000000\n",
      "1     (h)   53.846154\n",
      "2    (gg)   46.153846\n"
     ]
    }
   ],
   "source": [
    "def Disease_percentage():\n",
    "    global intersection\n",
    "    print('RandomForest_final',RandomForest_final)\n",
    "    print('decisionTree_final',decisionTree_final)\n",
    "    print('svm_final         ',svm_final)\n",
    "    print('---------------------------------------')\n",
    "    union=[]\n",
    "    union=RandomForest_final[0].copy()\n",
    "    union.extend(decisionTree_final[0])\n",
    "    union.extend(svm_final[0])\n",
    "    # union_set=list(set(union))\n",
    "    intersection=list(set(RandomForest_final[0]).intersection(set(decisionTree_final[0]) , set(svm_final[0])))\n",
    "    #for testing\n",
    "    # union=a\n",
    "    # intersection=int\n",
    "\n",
    "    # print('intersection',intersection)\n",
    "    u_min_n=[x for x in union if x not in intersection]\n",
    "    u_min_n_set=list(set(u_min_n))\n",
    "    final=[[x,100] for x in intersection]\n",
    "    # print('u_min_n     ',u_min_n)\n",
    "    # print('final       ',final)\n",
    "    # print('u_min_n_set ',u_min_n_set)\n",
    "    for x in u_min_n_set:\n",
    "        final.append([x,u_min_n.count(x)/(3*len(u_min_n_set))*100])\n",
    "    final=pd.DataFrame(final)\n",
    "    final.columns=['Disease','%']\n",
    "    print(final.sort_values(by='%',ascending=0))\n",
    "    print('---------------------------------------')\n",
    "    apriori_final=predict_apriori(intersection)\n",
    "    print('---------------------------------------')\n",
    "    final_apriori=[]\n",
    "    for i in range(len(apriori_final)):\n",
    "        print((apriori_final.iloc[i]['consequents']))\n",
    "        final_apriori.append([apriori_final.iloc[i]['consequents'], apriori_final.iloc[i]['confidence']*100])\n",
    "    final_apriori=pd.DataFrame(final_apriori)\n",
    "    final_apriori.columns=['Disease','%']\n",
    "    print(final_apriori)\n",
    "Disease_percentage()"
   ]
  }
 ],
 "metadata": {
  "kernelspec": {
   "display_name": "Python 3",
   "language": "python",
   "name": "python3"
  },
  "language_info": {
   "codemirror_mode": {
    "name": "ipython",
    "version": 3
   },
   "file_extension": ".py",
   "mimetype": "text/x-python",
   "name": "python",
   "nbconvert_exporter": "python",
   "pygments_lexer": "ipython3",
   "version": "3.12.6"
  }
 },
 "nbformat": 4,
 "nbformat_minor": 2
}
